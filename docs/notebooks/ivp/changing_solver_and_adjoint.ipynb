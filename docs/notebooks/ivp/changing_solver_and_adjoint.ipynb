{
 "cells": [
  {
   "cell_type": "code",
   "execution_count": null,
   "id": "7c8aafb2-0d03-4b38-a1db-dea7db71f560",
   "metadata": {},
   "outputs": [],
   "source": [
    "import numpy as np\n",
    "from jax import jit\n",
    "from jax import numpy as jnp\n",
    "from matplotlib import pyplot as plt\n",
    "\n",
    "from jwave import FourierSeries\n",
    "from jwave.acoustics import acoustic_solver\n",
    "from jwave.geometry import *\n",
    "from jwave.geometry import Sensors, circ_mask, points_on_circle\n",
    "from jwave.utils import show_field\n",
    "from jwave.ode import TimeAxis\n",
    "from jwave.ode import SemiImplicitEulerCorrected\n",
    "from diffrax import RecursiveCheckpointAdjoint, BacksolveAdjoint, DirectAdjoint\n",
    "\n",
    "domain = Domain((256, 256), (0.1e-3, 0.1e-3))\n",
    "medium = Medium(domain=domain, sound_speed=1500.0)\n",
    "time_axis = TimeAxis.from_cfl_number(medium, cfl=0.3)"
   ]
  },
  {
   "cell_type": "code",
   "execution_count": null,
   "id": "4a49a56d-d175-49fb-abae-328a7b2fd54c",
   "metadata": {},
   "outputs": [],
   "source": [
    "# Defining the initial pressure\n",
    "\n",
    "N = domain.N\n",
    "mask1 = circ_mask(N, 16, (100, 100))\n",
    "mask2 = circ_mask(N, 10, (160, 120))\n",
    "mask3 = circ_mask(N, 20, (128, 128))\n",
    "mask4 = circ_mask(N, 60, (128, 128))\n",
    "p0 = 5.0 * mask1 + 3.0 * mask2 + 4.0 * mask3 + 0.5 * mask4\n",
    "\n",
    "p0 = 1.0 * jnp.expand_dims(p0, -1)\n",
    "p0 = FourierSeries(p0, domain)"
   ]
  },
  {
   "cell_type": "code",
   "execution_count": null,
   "id": "9cff2652-168f-4295-b847-9904b482786c",
   "metadata": {},
   "outputs": [],
   "source": [
    "show_field(p0)\n",
    "plt.title(\"Initial pressure\")"
   ]
  },
  {
   "cell_type": "code",
   "execution_count": null,
   "id": "63c040d4-8df6-467d-9d4a-a6c91b44af5d",
   "metadata": {},
   "outputs": [],
   "source": [
    "num_sensors = 48\n",
    "x, y = points_on_circle(num_sensors, 100, (128, 128))\n",
    "sensors_positions = (x, y)\n",
    "sensors = Sensors(positions=sensors_positions)\n",
    "\n",
    "print(\"Sensors parameters:\")\n",
    "Sensors.__annotations__"
   ]
  },
  {
   "cell_type": "code",
   "execution_count": null,
   "id": "60ee3d0e-4f63-4940-a23f-f72c7f858547",
   "metadata": {},
   "outputs": [],
   "source": [
    "@jit\n",
    "def compiled_simulator(medium, p0):\n",
    "    return acoustic_solver(medium,\n",
    "                           time_axis,\n",
    "                           SemiImplicitEulerCorrected(),\n",
    "                           p0=p0,\n",
    "                           sensors=sensors)"
   ]
  },
  {
   "cell_type": "code",
   "execution_count": null,
   "id": "5980e13c-1776-4efa-8662-20d60179f671",
   "metadata": {},
   "outputs": [],
   "source": [
    "sensors_data = compiled_simulator(medium, p0)[..., 0]"
   ]
  },
  {
   "cell_type": "code",
   "execution_count": null,
   "id": "4c3b8cf3-5691-4bd7-bba0-9538248fff45",
   "metadata": {},
   "outputs": [],
   "source": [
    "%timeit _ = compiled_simulator(medium, p0)[..., 0].block_until_ready()"
   ]
  },
  {
   "cell_type": "code",
   "execution_count": null,
   "id": "2aa71104-4c64-4eba-863e-3da8a0b83e15",
   "metadata": {},
   "outputs": [],
   "source": [
    "_field = FourierSeries(sensors_data.T, domain)\n",
    "show_field(_field, \"Recorded acoustic signals\")\n",
    "plt.xlabel(\"Time step\")\n",
    "plt.ylabel(\"Sensor position\")\n",
    "plt.axis(\"on\")\n",
    "plt.show()"
   ]
  },
  {
   "attachments": {},
   "cell_type": "markdown",
   "id": "c6908742-3df6-4c81-918d-378074c087a0",
   "metadata": {},
   "source": [
    "In this notebooks, we will work on simulated measurements. To make things (a tiny bit) more realistic, we'll add some coloured noise to each sensor trace"
   ]
  },
  {
   "cell_type": "code",
   "execution_count": null,
   "id": "f1ed1693-bf20-4760-b1c3-bba41c6618e1",
   "metadata": {},
   "outputs": [],
   "source": [
    "import numpy as np\n",
    "from jax import grad, random\n",
    "\n",
    "from jwave.signal_processing import smooth\n",
    "\n",
    "# Add colored noise\n",
    "noise = random.normal(random.PRNGKey(42), sensors_data.shape)\n",
    "for i in range(noise.shape[1]):\n",
    "    noise = noise.at[:, i].set(smooth(noise[:, i]))\n",
    "\n",
    "noisy_data = sensors_data + 0.2 * noise\n",
    "\n",
    "# Show noisy traces\n",
    "_field = FourierSeries(noisy_data.T, domain)\n",
    "show_field(_field, \"Noisy acoustic signals\")\n",
    "plt.xlabel(\"Time step\")\n",
    "plt.ylabel(\"Sensor position\")\n",
    "plt.axis(\"on\")\n",
    "plt.show()"
   ]
  },
  {
   "attachments": {},
   "cell_type": "markdown",
   "id": "bfcfa8a8-e86b-419f-8363-b04065b83664",
   "metadata": {},
   "source": [
    "## Automatic differentiation\n",
    "\n",
    "In `jwave`, it is possible to take the gradient with respect to any scalar loss, as shown in the following example. The gradients will have the same datatypes as the inputs of to the function, so `Field` gradients will be mapped to `Field` objects.\n",
    "\n",
    "Here, we write a simple time reversal algorithm using autodiff. Note that time-reversal is proportional to the derivative operator of the `MSE` loss with respect to the measurement data, applied with zero initial conditions."
   ]
  },
  {
   "cell_type": "code",
   "execution_count": null,
   "id": "a3c8b2c1-efac-4248-96c9-0f14d7efdb1f",
   "metadata": {},
   "outputs": [],
   "source": [
    "# The following uses the reciprocity of the wave equation to generate\n",
    "# a time reversal imaging algorithm\n",
    "def solver(p0):\n",
    "    return acoustic_solver(medium,\n",
    "                           time_axis,\n",
    "                           SemiImplicitEulerCorrected(),\n",
    "                           p0=p0,\n",
    "                           sensors=sensors,\n",
    "                           adjoint=RecursiveCheckpointAdjoint(checkpoints=1250),\n",
    "                           max_steps=1250)\n",
    "\n",
    "\n",
    "@jit  # Compile the whole algorithm\n",
    "def lazy_time_reversal(measurements):\n",
    "    def mse_loss(p0, measurements):\n",
    "        p0 = p0.replace_params(p0.params)\n",
    "        p_pred = solver(p0)[..., 0]\n",
    "        return 0.5 * jnp.sum(jnp.abs(p_pred - measurements) ** 2)\n",
    "\n",
    "    # Start from an empty field\n",
    "    p0 = FourierSeries.empty(domain)\n",
    "\n",
    "    # Take the gradient of the MSE loss w.r.t. the\n",
    "    # measured data\n",
    "    p_grad = grad(mse_loss)(p0, measurements)\n",
    "\n",
    "    return -p_grad"
   ]
  },
  {
   "cell_type": "code",
   "execution_count": null,
   "id": "2b8f80e0-16fa-4b62-bbbd-76a1142aad8d",
   "metadata": {},
   "outputs": [],
   "source": [
    "# Reconstruct initial pressure distribution\n",
    "recon_image = lazy_time_reversal(noisy_data)\n",
    "\n",
    "# Show reconstructed field\n",
    "show_field(recon_image, \"Reconstructed initial pressure using autograd\")"
   ]
  },
  {
   "cell_type": "code",
   "execution_count": null,
   "id": "d0cf0a26-01b2-41fa-8c83-b0b789ad85cf",
   "metadata": {},
   "outputs": [],
   "source": [
    "# Timings for the reconstruction algorithm, should be\n",
    "# ~ 2x the forward function.\n",
    "%timeit lazy_time_reversal(noisy_data).params.block_until_ready()"
   ]
  },
  {
   "cell_type": "code",
   "execution_count": null,
   "id": "20d69ab3-35c0-4237-aa0e-7fc2ff75f8da",
   "metadata": {},
   "outputs": [],
   "source": [
    "# Timings for the reconstruction algorithm, should be\n",
    "# ~ 2x the forward function.\n",
    "%timeit lazy_time_reversal(noisy_data).params.block_until_ready()"
   ]
  },
  {
   "cell_type": "code",
   "execution_count": null,
   "id": "a38927f9-7b36-4aa0-a656-98f0fd1f2f2d",
   "metadata": {},
   "outputs": [],
   "source": [
    "from scipy.interpolate import interp1d\n",
    "\n",
    "# Save for paper\n",
    "fig, ax = plt.subplots(1,3, figsize=(10,3), dpi=100)\n",
    "\n",
    "im1 = ax[0].imshow(p0.on_grid, cmap=\"RdBu_r\", vmin=-6, vmax=6)\n",
    "cbar = fig.colorbar(im1, ax=ax[0])\n",
    "cbar.ax.get_yaxis().labelpad = 5\n",
    "cbar.ax.set_ylabel('A.U.', rotation=270)\n",
    "ax[0].axis('off')\n",
    "ax[0].set_title('Initial pressure')\n",
    "ax[0].scatter(x, y, label=\"sensors\", marker='.')\n",
    "ax[0].legend(loc=\"lower right\")\n",
    "\n",
    "# Plotting traces\n",
    "# adapted from this gist: https://gist.github.com/kwinkunks/f594b243e582666b5a808520e9add262\n",
    "data = np.asarray(noisy_data).T\n",
    "time = np.asarray(time_axis.to_array())\n",
    "\n",
    "skip=2\n",
    "perc=99.0\n",
    "gain=1.3\n",
    "oversampling=100\n",
    "rgb=(0, 0, 0)\n",
    "alpha=1.0\n",
    "lw=0.5\n",
    "\n",
    "ntraces, nt = data.shape\n",
    "rgba = list(rgb) + [alpha]\n",
    "sc = np.percentile(data, perc)  # Normalization factor\n",
    "wigdata = data[::skip]\n",
    "xpos = np.arange(ntraces)[::skip]\n",
    "\n",
    "for y_trace, trace in zip(xpos, wigdata):\n",
    "    amp = gain * trace / sc + y_trace\n",
    "    t = 1e6 * time\n",
    "    hypertime = np.linspace(t[0], t[-1], (oversampling * t.size - 1) + 1)\n",
    "    interp = interp1d(t, amp, kind='cubic')\n",
    "    hyperamp = interp(hypertime)\n",
    "\n",
    "    # Plot the line, then the fill.\n",
    "    ax[1].plot(hypertime, hyperamp, 'k', lw=lw)\n",
    "    ax[1].fill_between( hypertime, hyperamp, y_trace,\n",
    "                     where=hyperamp > y_trace,\n",
    "                     facecolor=rgba,\n",
    "                     interpolate=True,\n",
    "                     lw=0,\n",
    "                     )\n",
    "\n",
    "ax[1].yaxis.tick_right()\n",
    "ax[1].set_title('Noisy traces')\n",
    "ax[1].set_ylabel(\"Sensor number\")\n",
    "ax[1].set_xlabel(\"Time $\\mu s$\")\n",
    "\n",
    "im1 = ax[2].imshow(recon_image.on_grid, cmap=\"RdBu_r\", vmin=-0.3, vmax=0.3)\n",
    "cbar = fig.colorbar(im1, ax=ax[2])\n",
    "cbar.ax.get_yaxis().labelpad = 5\n",
    "cbar.ax.set_ylabel('A.U.', rotation=270)\n",
    "ax[2].axis('off')\n",
    "ax[2].set_title('Recovered initial pressure')\n",
    "\n",
    "fontprops = fm.FontProperties(size=12)\n",
    "scalebar = AnchoredSizeBar(\n",
    "    ax[2].transData,\n",
    "    100, '1 cm', 'lower right', \n",
    "    pad=0.3,\n",
    "    color='black',\n",
    "    frameon=False,\n",
    "    size_vertical=2,\n",
    "    fontproperties=fontprops)\n",
    "ax[2].add_artist(scalebar)\n",
    "\n",
    "fig.tight_layout()\n",
    "\n",
    "plt.savefig(\"initial_pressure_recon.pdf\")"
   ]
  },
  {
   "cell_type": "code",
   "execution_count": null,
   "id": "43aae8ae-834d-4a91-8a74-c8a1627b41f8",
   "metadata": {},
   "outputs": [],
   "source": []
  }
 ],
 "metadata": {
  "jupytext": {
   "formats": "ipynb,auto:light"
  },
  "kernelspec": {
   "display_name": "Python 3 (ipykernel)",
   "language": "python",
   "name": "python3"
  },
  "language_info": {
   "codemirror_mode": {
    "name": "ipython",
    "version": 3
   },
   "file_extension": ".py",
   "mimetype": "text/x-python",
   "name": "python",
   "nbconvert_exporter": "python",
   "pygments_lexer": "ipython3",
   "version": "3.11.3"
  }
 },
 "nbformat": 4,
 "nbformat_minor": 5
}
