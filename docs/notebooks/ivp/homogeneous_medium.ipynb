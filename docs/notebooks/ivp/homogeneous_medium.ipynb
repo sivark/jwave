{
 "cells": [
  {
   "cell_type": "markdown",
   "id": "808b895b-375d-4a64-b7d3-329c2e72d0bf",
   "metadata": {},
   "source": [
    "# Homogeneous Medium\n",
    "\n",
    "*This example notebook follows the [Homogeneous Propagation Medium Example](http://www.k-wave.org/documentation/example_ivp_homogeneous_medium.php) of [k-Wave](http://www.k-wave.org/).*"
   ]
  },
  {
   "cell_type": "markdown",
   "id": "1a444851-1eb3-4f3c-a498-0243b1c411ed",
   "metadata": {},
   "source": [
    "## Setup\n",
    "### Domain\n",
    "\n",
    "Similarly to k-Wave, j-Wave requires the user to specify a computational domain where the simulation takes place. This is done using the `Domain` dataclass which is lifted from [`jaxdf`](https://github.com/ucl-bug/jaxdf).\n",
    "\n",
    "The inputs for the constructor are the size of the domain in grid points in each spatial direction, and the corresponding discretization steps."
   ]
  },
  {
   "cell_type": "code",
   "execution_count": 1,
   "id": "52df5536-f518-4b65-aaa7-6f99327bce93",
   "metadata": {},
   "outputs": [],
   "source": [
    "from jwave.geometry import Domain\n",
    "\n",
    "N, dx = (128, 128), (0.1e-3, 0.1e-3)\n",
    "domain = Domain(N, dx)"
   ]
  },
  {
   "cell_type": "markdown",
   "id": "7b22c3ff-2914-4bf4-a38a-2348509b1e9f",
   "metadata": {
    "tags": []
   },
   "source": [
    "### Acoustic medium\n",
    "\n",
    "In this example, the speed of sound has a constant value of $1500m/s$. The speed of sound is defined as part of the `Medium` dataclass, which also needs the computational domain as mandatory input argument"
   ]
  },
  {
   "cell_type": "code",
   "execution_count": 2,
   "id": "b7c44880-4268-4582-9389-238873a05ce5",
   "metadata": {
    "tags": []
   },
   "outputs": [
    {
     "name": "stdout",
     "output_type": "stream",
     "text": [
      "Medium:\n",
      " - domain: Domain(N=(128, 128), dx=(0.0001, 0.0001))\n",
      " - sound_speed: 1500.0\n",
      " - density: 1.0\n",
      " - attenuation: 0.0\n",
      " - pml_size: 20\n"
     ]
    }
   ],
   "source": [
    "from jwave.geometry import Medium\n",
    "\n",
    "medium = Medium(domain=domain, sound_speed=1500.0)\n",
    "print(medium)"
   ]
  },
  {
   "cell_type": "markdown",
   "id": "329db085-607f-4750-a2e2-2479f390bf6f",
   "metadata": {},
   "source": [
    "### Time\n",
    "\n",
    "Time-stepping simulations requires to define a `TimeAxis` object, which is used by the timestepping scheme of the numerical simulation. To ensure a stable simulation, this object can be constructed from the `medium` object for a given [CFL number](https://it.wikipedia.org/wiki/Condizione_di_Courant-Friedrichs-Lewy)."
   ]
  },
  {
   "cell_type": "code",
   "execution_count": 3,
   "id": "c962cee6-42cd-48c8-bf33-0c96586a8a24",
   "metadata": {},
   "outputs": [],
   "source": [
    "from jwave.ode import TimeAxis\n",
    "\n",
    "time_axis = TimeAxis.from_cfl_number(medium, cfl=0.3)"
   ]
  },
  {
   "cell_type": "code",
   "execution_count": 4,
   "id": "686019fb-7613-4a86-8aab-44c6f3276262",
   "metadata": {},
   "outputs": [
    {
     "data": {
      "text/plain": [
       "TimeAxis(t0=0.0, t1=1.1973674098650615e-05, dt=2e-08)"
      ]
     },
     "execution_count": 4,
     "metadata": {},
     "output_type": "execute_result"
    }
   ],
   "source": [
    "time_axis"
   ]
  },
  {
   "cell_type": "markdown",
   "id": "03eb1a4b-31e2-464f-ae17-962b3100df1a",
   "metadata": {},
   "source": [
    "### Initial pressure\n",
    "\n",
    "The initial pressure distribution is a Field, therefore it must be somehow represented according to a discretization. Most of the functions of `jwave` are tested using a `FourierSeries` discretization: since in this example we are not interested in tweaking the underlying discretization, we will use this class to define the initial pressure field."
   ]
  },
  {
   "cell_type": "code",
   "execution_count": 5,
   "id": "ee9e9f9c-cf87-4679-836b-8ec9ce6860e9",
   "metadata": {},
   "outputs": [],
   "source": [
    "from jax import numpy as jnp\n",
    "\n",
    "from jwave import FourierSeries\n",
    "from jwave.geometry import circ_mask\n",
    "\n",
    "p0 = 1.0 * jnp.expand_dims(circ_mask(N, 4, (80, 60)), -1)\n",
    "p0 = FourierSeries(p0, domain)"
   ]
  },
  {
   "cell_type": "code",
   "execution_count": 6,
   "id": "5c59227b-615d-48b6-a8ec-59b8f07c6741",
   "metadata": {},
   "outputs": [
    {
     "data": {
      "image/png": "[encoded data removed]",
      "text/plain": [
       "<Figure size 800x600 with 2 Axes>"
      ]
     },
     "metadata": {},
     "output_type": "display_data"
    }
   ],
   "source": [
    "from matplotlib import pyplot as plt\n",
    "\n",
    "from jwave.utils import show_field\n",
    "\n",
    "show_field(p0)\n",
    "plt.title(f\"Initial pressure field\")\n",
    "plt.show()"
   ]
  },
  {
   "cell_type": "markdown",
   "id": "00303ddf-2c51-45cb-8907-3813199b87c4",
   "metadata": {},
   "source": [
    "## Run the simulation"
   ]
  },
  {
   "cell_type": "code",
   "execution_count": 7,
   "id": "cc3f0b43-8cc9-4467-9406-a0649cd32ce3",
   "metadata": {},
   "outputs": [],
   "source": [
    "from jax import jit\n",
    "\n",
    "from jwave.acoustics import acoustic_solver\n",
    "from jwave.ode import SemiImplicitEulerCorrected\n",
    "\n",
    "\n",
    "def compiled_simulator(medium, p0):\n",
    "    return acoustic_solver(medium, time_axis, SemiImplicitEulerCorrected(),  p0=p0)"
   ]
  },
  {
   "cell_type": "code",
   "execution_count": 8,
   "id": "36c5250c-51e6-4d30-9f67-f840c66037de",
   "metadata": {},
   "outputs": [
    {
     "name": "stderr",
     "output_type": "stream",
     "text": [
      "/home/antonio/repos/jwave/jwave/acoustics/time_varying.py:287: UserWarning: Both sensors and saveat.fn are set. The latter will be overwritten\n",
      "  warnings.warn(\n"
     ]
    },
    {
     "ename": "TypeError",
     "evalue": "Shapes must be 1D sequences of concrete values of integer type, got (Traced<ShapedArray(float32[])>with<DynamicJaxprTrace(level=1/0)>,).\nIf using `jit`, try using `static_argnums` or applying `jit` to smaller subfunctions.\nThe error occurred while tracing the function diffeqsolve at /home/antonio/anaconda3/envs/jwave/lib/python3.11/site-packages/equinox/_jit.py:32 for jit. This value became a tracer due to JAX operations on these lines:\n\n  operation a\u001b[35m:f32[]\u001b[39m = convert_element_type[new_dtype=float32 weak_type=False] b\n    from line /home/antonio/repos/jwave/jwave/acoustics/time_varying.py:525:15 (acoustic_solver)\n\n  operation a\u001b[35m:f32[]\u001b[39m = convert_element_type[new_dtype=float32 weak_type=False] b\n    from line /home/antonio/repos/jwave/jwave/acoustics/time_varying.py:525:15 (acoustic_solver)",
     "output_type": "error",
     "traceback": [
      "\u001b[0;31m---------------------------------------------------------------------------\u001b[0m",
      "\u001b[0;31mTypeError\u001b[0m                                 Traceback (most recent call last)",
      "Cell \u001b[0;32mIn[8], line 1\u001b[0m\n\u001b[0;32m----> 1\u001b[0m pressure \u001b[38;5;241m=\u001b[39m \u001b[43mcompiled_simulator\u001b[49m\u001b[43m(\u001b[49m\u001b[43mmedium\u001b[49m\u001b[43m,\u001b[49m\u001b[43m \u001b[49m\u001b[43mp0\u001b[49m\u001b[43m)\u001b[49m\n",
      "Cell \u001b[0;32mIn[7], line 8\u001b[0m, in \u001b[0;36mcompiled_simulator\u001b[0;34m(medium, p0)\u001b[0m\n\u001b[1;32m      7\u001b[0m \u001b[38;5;28;01mdef\u001b[39;00m \u001b[38;5;21mcompiled_simulator\u001b[39m(medium, p0):\n\u001b[0;32m----> 8\u001b[0m     \u001b[38;5;28;01mreturn\u001b[39;00m \u001b[43macoustic_solver\u001b[49m\u001b[43m(\u001b[49m\u001b[43mmedium\u001b[49m\u001b[43m,\u001b[49m\u001b[43m \u001b[49m\u001b[43mtime_axis\u001b[49m\u001b[43m,\u001b[49m\u001b[43m \u001b[49m\u001b[43mSemiImplicitEulerCorrected\u001b[49m\u001b[43m(\u001b[49m\u001b[43m)\u001b[49m\u001b[43m,\u001b[49m\u001b[43m  \u001b[49m\u001b[43mp0\u001b[49m\u001b[38;5;241;43m=\u001b[39;49m\u001b[43mp0\u001b[49m\u001b[43m)\u001b[49m\n",
      "File \u001b[0;32m~/anaconda3/envs/jwave/lib/python3.11/site-packages/plum/function.py:592\u001b[0m, in \u001b[0;36mFunction.__call__\u001b[0;34m(self, *args, **kw_args)\u001b[0m\n\u001b[1;32m    590\u001b[0m \u001b[38;5;66;03m# Cache failed. Get method and return type, and perform call.\u001b[39;00m\n\u001b[1;32m    591\u001b[0m method, return_type \u001b[38;5;241m=\u001b[39m \u001b[38;5;28mself\u001b[39m\u001b[38;5;241m.\u001b[39mresolve_method(\u001b[38;5;241m*\u001b[39msig_types)\n\u001b[0;32m--> 592\u001b[0m \u001b[38;5;28;01mreturn\u001b[39;00m _convert(\u001b[43mmethod\u001b[49m\u001b[43m(\u001b[49m\u001b[38;5;241;43m*\u001b[39;49m\u001b[43margs\u001b[49m\u001b[43m,\u001b[49m\u001b[43m \u001b[49m\u001b[38;5;241;43m*\u001b[39;49m\u001b[38;5;241;43m*\u001b[39;49m\u001b[43mkw_args\u001b[49m\u001b[43m)\u001b[49m, return_type)\n",
      "File \u001b[0;32m~/anaconda3/envs/jwave/lib/python3.11/site-packages/jaxdf/core.py:41\u001b[0m, in \u001b[0;36m_operator.<locals>.wrapper\u001b[0;34m(*args, **kwargs)\u001b[0m\n\u001b[1;32m     36\u001b[0m \u001b[38;5;28;01mif\u001b[39;00m debug_config[\u001b[38;5;124m\"\u001b[39m\u001b[38;5;124mdebug_dispatch\u001b[39m\u001b[38;5;124m\"\u001b[39m]:\n\u001b[1;32m     37\u001b[0m     \u001b[38;5;28mprint\u001b[39m(\n\u001b[1;32m     38\u001b[0m         \u001b[38;5;124mf\u001b[39m\u001b[38;5;124m\"\u001b[39m\u001b[38;5;124mDispatching \u001b[39m\u001b[38;5;132;01m{\u001b[39;00mevaluate\u001b[38;5;241m.\u001b[39m\u001b[38;5;18m__name__\u001b[39m\u001b[38;5;132;01m}\u001b[39;00m\u001b[38;5;124m with for types \u001b[39m\u001b[38;5;132;01m{\u001b[39;00mevaluate\u001b[38;5;241m.\u001b[39m\u001b[38;5;18m__annotations__\u001b[39m\u001b[38;5;132;01m}\u001b[39;00m\u001b[38;5;124m\"\u001b[39m\n\u001b[1;32m     39\u001b[0m     )\n\u001b[0;32m---> 41\u001b[0m outs \u001b[38;5;241m=\u001b[39m \u001b[43mevaluate\u001b[49m\u001b[43m(\u001b[49m\u001b[38;5;241;43m*\u001b[39;49m\u001b[43margs\u001b[49m\u001b[43m,\u001b[49m\u001b[43m \u001b[49m\u001b[38;5;241;43m*\u001b[39;49m\u001b[38;5;241;43m*\u001b[39;49m\u001b[43mkwargs\u001b[49m\u001b[43m)\u001b[49m\n\u001b[1;32m     42\u001b[0m \u001b[38;5;28;01mif\u001b[39;00m \u001b[38;5;28misinstance\u001b[39m(outs, \u001b[38;5;28mtuple\u001b[39m) \u001b[38;5;129;01mand\u001b[39;00m \u001b[38;5;28mlen\u001b[39m(outs) \u001b[38;5;241m>\u001b[39m \u001b[38;5;241m1\u001b[39m:\n\u001b[1;32m     43\u001b[0m     \u001b[38;5;66;03m# Overload the field class with an extra attribute\u001b[39;00m\n\u001b[1;32m     44\u001b[0m     field \u001b[38;5;241m=\u001b[39m outs[\u001b[38;5;241m0\u001b[39m]\n",
      "File \u001b[0;32m~/repos/jwave/jwave/acoustics/time_varying.py:525\u001b[0m, in \u001b[0;36macoustic_solver\u001b[0;34m(medium, time_axis, solver, sources, sensors, u0, p0, settings, adjoint, saveat, stepsize_controller, max_steps, params)\u001b[0m\n\u001b[1;32m    522\u001b[0m saveat \u001b[38;5;241m=\u001b[39m SaveAt(fn\u001b[38;5;241m=\u001b[39msensors, steps\u001b[38;5;241m=\u001b[39m\u001b[38;5;28;01mTrue\u001b[39;00m)\n\u001b[1;32m    524\u001b[0m \u001b[38;5;66;03m# Integrate\u001b[39;00m\n\u001b[0;32m--> 525\u001b[0m solution \u001b[38;5;241m=\u001b[39m \u001b[43mdiffeqsolve\u001b[49m\u001b[43m(\u001b[49m\n\u001b[1;32m    526\u001b[0m \u001b[43m    \u001b[49m\u001b[43mterms\u001b[49m\u001b[43m,\u001b[49m\u001b[43m \u001b[49m\n\u001b[1;32m    527\u001b[0m \u001b[43m    \u001b[49m\u001b[43msolver\u001b[49m\u001b[43m,\u001b[49m\n\u001b[1;32m    528\u001b[0m \u001b[43m    \u001b[49m\u001b[43mt0\u001b[49m\u001b[43m \u001b[49m\u001b[38;5;241;43m=\u001b[39;49m\u001b[43m \u001b[49m\u001b[43mtime_axis\u001b[49m\u001b[38;5;241;43m.\u001b[39;49m\u001b[43mt0\u001b[49m\u001b[43m,\u001b[49m\n\u001b[1;32m    529\u001b[0m \u001b[43m    \u001b[49m\u001b[43mt1\u001b[49m\u001b[43m \u001b[49m\u001b[38;5;241;43m=\u001b[39;49m\u001b[43m \u001b[49m\u001b[43mtime_axis\u001b[49m\u001b[38;5;241;43m.\u001b[39;49m\u001b[43mt1\u001b[49m\u001b[43m,\u001b[49m\n\u001b[1;32m    530\u001b[0m \u001b[43m    \u001b[49m\u001b[43mdt0\u001b[49m\u001b[43m \u001b[49m\u001b[38;5;241;43m=\u001b[39;49m\u001b[43m \u001b[49m\u001b[43mtime_axis\u001b[49m\u001b[38;5;241;43m.\u001b[39;49m\u001b[43mdt\u001b[49m\u001b[43m,\u001b[49m\n\u001b[1;32m    531\u001b[0m \u001b[43m    \u001b[49m\u001b[43my0\u001b[49m\u001b[43m \u001b[49m\u001b[38;5;241;43m=\u001b[39;49m\u001b[43m \u001b[49m\u001b[43mfields\u001b[49m\u001b[43m,\u001b[49m\n\u001b[1;32m    532\u001b[0m \u001b[43m    \u001b[49m\u001b[43margs\u001b[49m\u001b[43m \u001b[49m\u001b[38;5;241;43m=\u001b[39;49m\u001b[43m \u001b[49m\u001b[43margs\u001b[49m\u001b[43m,\u001b[49m\n\u001b[1;32m    533\u001b[0m \u001b[43m    \u001b[49m\u001b[43msaveat\u001b[49m\u001b[38;5;241;43m=\u001b[39;49m\u001b[43msaveat\u001b[49m\u001b[43m,\u001b[49m\n\u001b[1;32m    534\u001b[0m \u001b[43m    \u001b[49m\u001b[43mstepsize_controller\u001b[49m\u001b[38;5;241;43m=\u001b[39;49m\u001b[43mstepsize_controller\u001b[49m\u001b[43m,\u001b[49m\n\u001b[1;32m    535\u001b[0m \u001b[43m    \u001b[49m\u001b[43madjoint\u001b[49m\u001b[38;5;241;43m=\u001b[39;49m\u001b[43madjoint\u001b[49m\u001b[43m,\u001b[49m\n\u001b[1;32m    536\u001b[0m \u001b[43m    \u001b[49m\u001b[43mmax_steps\u001b[49m\u001b[38;5;241;43m=\u001b[39;49m\u001b[43mmax_steps\u001b[49m\n\u001b[1;32m    537\u001b[0m \u001b[43m\u001b[49m\u001b[43m)\u001b[49m\n\u001b[1;32m    539\u001b[0m \u001b[38;5;66;03m# TODO: May be interesting to return the full solution, to use the \u001b[39;00m\n\u001b[1;32m    540\u001b[0m \u001b[38;5;66;03m# interpolation ability of the solution object, as well as the possibility to integrate\u001b[39;00m\n\u001b[1;32m    541\u001b[0m \u001b[38;5;66;03m# against the integration extrema and to take numerical derivatives of the solution\u001b[39;00m\n\u001b[1;32m    542\u001b[0m \u001b[38;5;28;01mreturn\u001b[39;00m solution\u001b[38;5;241m.\u001b[39mys\n",
      "File \u001b[0;32m~/anaconda3/envs/jwave/lib/python3.11/site-packages/equinox/_jit.py:103\u001b[0m, in \u001b[0;36m_JitWrapper.__call__\u001b[0;34m(self, *args, **kwargs)\u001b[0m\n\u001b[1;32m    102\u001b[0m \u001b[38;5;28;01mdef\u001b[39;00m \u001b[38;5;21m__call__\u001b[39m(\u001b[38;5;28mself\u001b[39m, \u001b[38;5;241m/\u001b[39m, \u001b[38;5;241m*\u001b[39margs, \u001b[38;5;241m*\u001b[39m\u001b[38;5;241m*\u001b[39mkwargs):\n\u001b[0;32m--> 103\u001b[0m     \u001b[38;5;28;01mreturn\u001b[39;00m \u001b[38;5;28;43mself\u001b[39;49m\u001b[38;5;241;43m.\u001b[39;49m\u001b[43m_call\u001b[49m\u001b[43m(\u001b[49m\u001b[38;5;28;43;01mFalse\u001b[39;49;00m\u001b[43m,\u001b[49m\u001b[43m \u001b[49m\u001b[43margs\u001b[49m\u001b[43m,\u001b[49m\u001b[43m \u001b[49m\u001b[43mkwargs\u001b[49m\u001b[43m)\u001b[49m\n",
      "File \u001b[0;32m~/anaconda3/envs/jwave/lib/python3.11/site-packages/equinox/_jit.py:99\u001b[0m, in \u001b[0;36m_JitWrapper._call\u001b[0;34m(self, is_lower, args, kwargs)\u001b[0m\n\u001b[1;32m     97\u001b[0m         out \u001b[38;5;241m=\u001b[39m \u001b[38;5;28mself\u001b[39m\u001b[38;5;241m.\u001b[39m_cached(dynamic, static)\n\u001b[1;32m     98\u001b[0m \u001b[38;5;28;01melse\u001b[39;00m:\n\u001b[0;32m---> 99\u001b[0m     out \u001b[38;5;241m=\u001b[39m \u001b[38;5;28;43mself\u001b[39;49m\u001b[38;5;241;43m.\u001b[39;49m\u001b[43m_cached\u001b[49m\u001b[43m(\u001b[49m\u001b[43mdynamic\u001b[49m\u001b[43m,\u001b[49m\u001b[43m \u001b[49m\u001b[43mstatic\u001b[49m\u001b[43m)\u001b[49m\n\u001b[1;32m    100\u001b[0m \u001b[38;5;28;01mreturn\u001b[39;00m _postprocess(out)\n",
      "    \u001b[0;31m[... skipping hidden 12 frame]\u001b[0m\n",
      "File \u001b[0;32m~/anaconda3/envs/jwave/lib/python3.11/site-packages/equinox/_jit.py:37\u001b[0m, in \u001b[0;36m_filter_jit_cache.<locals>.fun_wrapped\u001b[0;34m(dynamic, static)\u001b[0m\n\u001b[1;32m     35\u001b[0m fun \u001b[38;5;241m=\u001b[39m hashable_combine(dynamic_fun, static_fun)\n\u001b[1;32m     36\u001b[0m args, kwargs \u001b[38;5;241m=\u001b[39m hashable_combine(dynamic_spec, static_spec)\n\u001b[0;32m---> 37\u001b[0m out \u001b[38;5;241m=\u001b[39m \u001b[43mfun\u001b[49m\u001b[43m(\u001b[49m\u001b[38;5;241;43m*\u001b[39;49m\u001b[43margs\u001b[49m\u001b[43m,\u001b[49m\u001b[43m \u001b[49m\u001b[38;5;241;43m*\u001b[39;49m\u001b[38;5;241;43m*\u001b[39;49m\u001b[43mkwargs\u001b[49m\u001b[43m)\u001b[49m\n\u001b[1;32m     38\u001b[0m dynamic_out, static_out \u001b[38;5;241m=\u001b[39m partition(out, is_array)\n\u001b[1;32m     39\u001b[0m \u001b[38;5;28;01mreturn\u001b[39;00m dynamic_out, Static(static_out)\n",
      "File \u001b[0;32m~/anaconda3/envs/jwave/lib/python3.11/site-packages/diffrax/integrate.py:749\u001b[0m, in \u001b[0;36mdiffeqsolve\u001b[0;34m(terms, solver, t0, t1, dt0, y0, args, saveat, stepsize_controller, adjoint, discrete_terminating_event, max_steps, throw, solver_state, controller_state, made_jump)\u001b[0m\n\u001b[1;32m    744\u001b[0m     ys \u001b[38;5;241m=\u001b[39m jtu\u001b[38;5;241m.\u001b[39mtree_map(\u001b[38;5;28;01mlambda\u001b[39;00m y: jnp\u001b[38;5;241m.\u001b[39mfull((out_size,) \u001b[38;5;241m+\u001b[39m y\u001b[38;5;241m.\u001b[39mshape, jnp\u001b[38;5;241m.\u001b[39minf), struct)\n\u001b[1;32m    745\u001b[0m     \u001b[38;5;28;01mreturn\u001b[39;00m SaveState(\n\u001b[1;32m    746\u001b[0m         ts\u001b[38;5;241m=\u001b[39mts, ys\u001b[38;5;241m=\u001b[39mys, save_index\u001b[38;5;241m=\u001b[39msave_index, saveat_ts_index\u001b[38;5;241m=\u001b[39msaveat_ts_index\n\u001b[1;32m    747\u001b[0m     )\n\u001b[0;32m--> 749\u001b[0m save_state \u001b[38;5;241m=\u001b[39m \u001b[43mjtu\u001b[49m\u001b[38;5;241;43m.\u001b[39;49m\u001b[43mtree_map\u001b[49m\u001b[43m(\u001b[49m\u001b[43m_allocate_output\u001b[49m\u001b[43m,\u001b[49m\u001b[43m \u001b[49m\u001b[43msaveat\u001b[49m\u001b[38;5;241;43m.\u001b[39;49m\u001b[43msubs\u001b[49m\u001b[43m,\u001b[49m\u001b[43m \u001b[49m\u001b[43mis_leaf\u001b[49m\u001b[38;5;241;43m=\u001b[39;49m\u001b[43m_is_subsaveat\u001b[49m\u001b[43m)\u001b[49m\n\u001b[1;32m    750\u001b[0m num_steps \u001b[38;5;241m=\u001b[39m \u001b[38;5;241m0\u001b[39m\n\u001b[1;32m    751\u001b[0m num_accepted_steps \u001b[38;5;241m=\u001b[39m \u001b[38;5;241m0\u001b[39m\n",
      "    \u001b[0;31m[... skipping hidden 2 frame]\u001b[0m\n",
      "File \u001b[0;32m~/anaconda3/envs/jwave/lib/python3.11/site-packages/diffrax/integrate.py:742\u001b[0m, in \u001b[0;36mdiffeqsolve.<locals>._allocate_output\u001b[0;34m(subsaveat)\u001b[0m\n\u001b[1;32m    740\u001b[0m saveat_ts_index \u001b[38;5;241m=\u001b[39m \u001b[38;5;241m0\u001b[39m\n\u001b[1;32m    741\u001b[0m save_index \u001b[38;5;241m=\u001b[39m \u001b[38;5;241m0\u001b[39m\n\u001b[0;32m--> 742\u001b[0m ts \u001b[38;5;241m=\u001b[39m \u001b[43mjnp\u001b[49m\u001b[38;5;241;43m.\u001b[39;49m\u001b[43mfull\u001b[49m\u001b[43m(\u001b[49m\u001b[43mout_size\u001b[49m\u001b[43m,\u001b[49m\u001b[43m \u001b[49m\u001b[43mjnp\u001b[49m\u001b[38;5;241;43m.\u001b[39;49m\u001b[43minf\u001b[49m\u001b[43m)\u001b[49m\n\u001b[1;32m    743\u001b[0m struct \u001b[38;5;241m=\u001b[39m eqx\u001b[38;5;241m.\u001b[39mfilter_eval_shape(subsaveat\u001b[38;5;241m.\u001b[39mfn, t0, y0, args)\n\u001b[1;32m    744\u001b[0m ys \u001b[38;5;241m=\u001b[39m jtu\u001b[38;5;241m.\u001b[39mtree_map(\u001b[38;5;28;01mlambda\u001b[39;00m y: jnp\u001b[38;5;241m.\u001b[39mfull((out_size,) \u001b[38;5;241m+\u001b[39m y\u001b[38;5;241m.\u001b[39mshape, jnp\u001b[38;5;241m.\u001b[39minf), struct)\n",
      "File \u001b[0;32m~/anaconda3/envs/jwave/lib/python3.11/site-packages/jax/_src/numpy/lax_numpy.py:2122\u001b[0m, in \u001b[0;36mfull\u001b[0;34m(shape, fill_value, dtype)\u001b[0m\n\u001b[1;32m   2120\u001b[0m util\u001b[38;5;241m.\u001b[39mcheck_arraylike(\u001b[38;5;124m\"\u001b[39m\u001b[38;5;124mfull\u001b[39m\u001b[38;5;124m\"\u001b[39m, fill_value)\n\u001b[1;32m   2121\u001b[0m \u001b[38;5;28;01mif\u001b[39;00m ndim(fill_value) \u001b[38;5;241m==\u001b[39m \u001b[38;5;241m0\u001b[39m:\n\u001b[0;32m-> 2122\u001b[0m   shape \u001b[38;5;241m=\u001b[39m \u001b[43mcanonicalize_shape\u001b[49m\u001b[43m(\u001b[49m\u001b[43mshape\u001b[49m\u001b[43m)\u001b[49m\n\u001b[1;32m   2123\u001b[0m   \u001b[38;5;28;01mreturn\u001b[39;00m lax\u001b[38;5;241m.\u001b[39mfull(shape, fill_value, dtype)\n\u001b[1;32m   2124\u001b[0m \u001b[38;5;28;01melse\u001b[39;00m:\n",
      "File \u001b[0;32m~/anaconda3/envs/jwave/lib/python3.11/site-packages/jax/_src/numpy/lax_numpy.py:77\u001b[0m, in \u001b[0;36mcanonicalize_shape\u001b[0;34m(shape, context)\u001b[0m\n\u001b[1;32m     74\u001b[0m \u001b[38;5;28;01mdef\u001b[39;00m \u001b[38;5;21mcanonicalize_shape\u001b[39m(shape: Any, context: \u001b[38;5;28mstr\u001b[39m\u001b[38;5;241m=\u001b[39m\u001b[38;5;124m\"\u001b[39m\u001b[38;5;124m\"\u001b[39m) \u001b[38;5;241m-\u001b[39m\u001b[38;5;241m>\u001b[39m core\u001b[38;5;241m.\u001b[39mShape:\n\u001b[1;32m     75\u001b[0m   \u001b[38;5;28;01mif\u001b[39;00m (\u001b[38;5;129;01mnot\u001b[39;00m \u001b[38;5;28misinstance\u001b[39m(shape, (\u001b[38;5;28mtuple\u001b[39m, \u001b[38;5;28mlist\u001b[39m)) \u001b[38;5;129;01mand\u001b[39;00m\n\u001b[1;32m     76\u001b[0m       (\u001b[38;5;28mgetattr\u001b[39m(shape, \u001b[38;5;124m'\u001b[39m\u001b[38;5;124mndim\u001b[39m\u001b[38;5;124m'\u001b[39m, \u001b[38;5;28;01mNone\u001b[39;00m) \u001b[38;5;241m==\u001b[39m \u001b[38;5;241m0\u001b[39m \u001b[38;5;129;01mor\u001b[39;00m ndim(shape) \u001b[38;5;241m==\u001b[39m \u001b[38;5;241m0\u001b[39m)):\n\u001b[0;32m---> 77\u001b[0m     \u001b[38;5;28;01mreturn\u001b[39;00m \u001b[43mcore\u001b[49m\u001b[38;5;241;43m.\u001b[39;49m\u001b[43mcanonicalize_shape\u001b[49m\u001b[43m(\u001b[49m\u001b[43m(\u001b[49m\u001b[43mshape\u001b[49m\u001b[43m,\u001b[49m\u001b[43m)\u001b[49m\u001b[43m,\u001b[49m\u001b[43m \u001b[49m\u001b[43mcontext\u001b[49m\u001b[43m)\u001b[49m  \u001b[38;5;66;03m# type: ignore\u001b[39;00m\n\u001b[1;32m     78\u001b[0m   \u001b[38;5;28;01melse\u001b[39;00m:\n\u001b[1;32m     79\u001b[0m     \u001b[38;5;28;01mreturn\u001b[39;00m core\u001b[38;5;241m.\u001b[39mcanonicalize_shape(shape, context)\n",
      "File \u001b[0;32m~/anaconda3/envs/jwave/lib/python3.11/site-packages/jax/_src/core.py:2086\u001b[0m, in \u001b[0;36mcanonicalize_shape\u001b[0;34m(shape, context)\u001b[0m\n\u001b[1;32m   2084\u001b[0m \u001b[38;5;28;01mexcept\u001b[39;00m \u001b[38;5;167;01mTypeError\u001b[39;00m:\n\u001b[1;32m   2085\u001b[0m   \u001b[38;5;28;01mpass\u001b[39;00m\n\u001b[0;32m-> 2086\u001b[0m \u001b[38;5;28;01mraise\u001b[39;00m _invalid_shape_error(shape, context)\n",
      "\u001b[0;31mTypeError\u001b[0m: Shapes must be 1D sequences of concrete values of integer type, got (Traced<ShapedArray(float32[])>with<DynamicJaxprTrace(level=1/0)>,).\nIf using `jit`, try using `static_argnums` or applying `jit` to smaller subfunctions.\nThe error occurred while tracing the function diffeqsolve at /home/antonio/anaconda3/envs/jwave/lib/python3.11/site-packages/equinox/_jit.py:32 for jit. This value became a tracer due to JAX operations on these lines:\n\n  operation a\u001b[35m:f32[]\u001b[39m = convert_element_type[new_dtype=float32 weak_type=False] b\n    from line /home/antonio/repos/jwave/jwave/acoustics/time_varying.py:525:15 (acoustic_solver)\n\n  operation a\u001b[35m:f32[]\u001b[39m = convert_element_type[new_dtype=float32 weak_type=False] b\n    from line /home/antonio/repos/jwave/jwave/acoustics/time_varying.py:525:15 (acoustic_solver)"
     ]
    }
   ],
   "source": [
    "pressure = compiled_simulator(medium, p0)"
   ]
  },
  {
   "cell_type": "code",
   "execution_count": null,
   "id": "e0dada99-138b-44f5-b778-cac5cffbfdc2",
   "metadata": {},
   "outputs": [],
   "source": [
    "t = 250\n",
    "show_field(pressure[t])\n",
    "plt.title(f\"Pressure field at t={time_axis.to_array()[t]}\")\n",
    "plt.show()"
   ]
  },
  {
   "cell_type": "markdown",
   "id": "c6bd7bc8-addb-40b3-bf10-76b329ebb501",
   "metadata": {},
   "source": [
    "## Timings"
   ]
  },
  {
   "cell_type": "code",
   "execution_count": null,
   "id": "0abf1e6b-b2c4-4916-9ec7-27431ffe805e",
   "metadata": {},
   "outputs": [],
   "source": [
    "%timeit compiled_simulator(medium, p0).params.block_until_ready()"
   ]
  }
 ],
 "metadata": {
  "jupytext": {
   "formats": "ipynb,py:percent"
  },
  "kernelspec": {
   "display_name": "Python 3 (ipykernel)",
   "language": "python",
   "name": "python3"
  },
  "language_info": {
   "codemirror_mode": {
    "name": "ipython",
    "version": 3
   },
   "file_extension": ".py",
   "mimetype": "text/x-python",
   "name": "python",
   "nbconvert_exporter": "python",
   "pygments_lexer": "ipython3",
   "version": "3.11.4"
  }
 },
 "nbformat": 4,
 "nbformat_minor": 5
}
